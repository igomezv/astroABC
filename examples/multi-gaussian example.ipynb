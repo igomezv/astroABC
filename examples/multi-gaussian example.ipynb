{
 "cells": [
  {
   "cell_type": "markdown",
   "metadata": {},
   "source": [
    "# Multi-Gaussian example\n",
    "\n",
    "As an introductory example we can use astroABC to find the posterior distribution for some Gaussian distributed data. Although in this case we already know the likelihood this example is to illustrate how to call astroABC and provide user-defined metrics.\n"
   ]
  },
  {
   "cell_type": "code",
   "execution_count": 41,
   "metadata": {},
   "outputs": [],
   "source": [
    "import sys\n",
    "sys.path.insert(0, '..')\n",
    "# start by importing astroabc and numpy\n",
    "import numpy as np\n",
    "import astroabc\n",
    "import seaborn as sns\n",
    "import matplotlib.pyplot as plt\n",
    "import corner"
   ]
  },
  {
   "cell_type": "markdown",
   "metadata": {},
   "source": [
    "We need to provide:\n",
    "\n",
    "- a dataset\n",
    "- a forwards simulating model for the data\n",
    "- a method defining the distance metric.\n",
    "\n",
    "For this example we generate a dataset of a 1000 draws from a 2D multi-Gaussian where the true means are e.g\n",
    "\n",
    "$\\mu_{1,true} = 0.037579, \\, \\mu_{2, true}=0.573537$\n",
    "\n",
    "and we have fixed the covariance matrix to be  a diagonal matrix with $\\sigma_1^2 = \\sigma_2^2 = 0.05$. \n",
    "We can do this using an inbuilt model class in astroabc."
   ]
  },
  {
   "cell_type": "code",
   "execution_count": 2,
   "metadata": {},
   "outputs": [],
   "source": [
    "#make the fake data with diagonal covariance\n",
    "means= np.array([0.037579, 0.573537])\n",
    "cov =np.array([0.01,0.005,0.005,0.1])\n",
    "data = astroabc.Model(\"normal\",1000).make_mock(means,cov)"
   ]
  },
  {
   "cell_type": "markdown",
   "metadata": {},
   "source": [
    "In this example the make_mock method also provides a forwards simulating model for the data. "
   ]
  },
  {
   "cell_type": "code",
   "execution_count": 3,
   "metadata": {},
   "outputs": [],
   "source": [
    "#define a method for simulating the data given input parameters\n",
    "def simulation(param, pool=None):\n",
    "    cov =np.array([0.01,0.005,0.005,0.1])\n",
    "    #Ideally do something with the pool here\n",
    "    return astroabc.Model(\"normal\",10000).make_mock(param,cov)\n",
    "\n",
    "model_sim = simulation"
   ]
  },
  {
   "cell_type": "markdown",
   "metadata": {},
   "source": [
    "Next we define a distance metric method. In this example instead of using all of the data (all 1000 draws from a 2D Gaussian) we use the means of the data as a summary statistic and our distance metric is the sum over the difference in the means for the 2D Gaussian "
   ]
  },
  {
   "cell_type": "code",
   "execution_count": 4,
   "metadata": {},
   "outputs": [],
   "source": [
    "def dist_metric(d,x):\n",
    "    return np.sum(np.abs(np.mean(x,axis=0) - np.mean(d,axis=0)))"
   ]
  },
  {
   "cell_type": "markdown",
   "metadata": {},
   "source": [
    "Next we specify priors for each of the parameters we want to vary in the sampler. This is done by specifying a list of tuples. The zeroth element in each tuple should be a string specifying the prior for this parameter and the first element should be a list of the hyperparameters needed for this prior.\n",
    "e.g. below we use a normal distribution with mean  0 and variance 0.5 for the first parameter and a uniform distribution from 0.1 - 0.9 for the second parameter."
   ]
  },
  {
   "cell_type": "code",
   "execution_count": 5,
   "metadata": {},
   "outputs": [],
   "source": [
    "priors =  [('normal', [0.03,0.1]), ('uniform', [0.1, 0.9])]"
   ]
  },
  {
   "cell_type": "markdown",
   "metadata": {},
   "source": [
    "Next we need to set some keywords for astroABC. This can be done by creating a dictionary of inputs which are passed to the sampler. Many of these entries have defaults and do not need to be specified explicitly.\n",
    "Only the name of the distance metric method needs to be explicity provided as a keyword.\n",
    "The full set of keywords are given in the doc string of the class. Some examples are\n",
    "\n",
    "- tol_type: which specifies the decreasing tolerance levels. \"exp\",\"lin\", \"log\" and \"const\" are options. (default = 'exp')\n",
    "\n",
    "- verbose: level of verbosity, 0 = no printout to screen, 1 = print to screen  (default = 0)\n",
    "\n",
    "- adapt_t: Boolean True/False for adaptive threshold setting (default = False)\n",
    "\n",
    "- threshold: qth quantile used in adaptive threshold setting (default = 75)\n",
    "\n",
    "- pert_kernel: 1 =component wise pert. with local diag variance; 2 = multivariate pert. based on local covariance\n",
    "\n",
    "- variance_method: 0 =weighted covariance, 1= Filippi, 2 = TVZ, 3= Leodoit_Wolf, 4=k-nn (default = 0)\n",
    "\n",
    "- dfunc:method for calculating the distance metric\n",
    "\n",
    "- from_restart: Boolean True/False\n",
    "\n",
    "- restart: string name of restart file\n",
    "\n",
    "- outfile:string specifying name of output file (default = abc_out.txt)\n",
    "\n",
    "- mpi: Boolean True/False (default = False)\n",
    "\n",
    "- mp:Boolean True/False (default = False)\n",
    "\n",
    "- num_proc:number of threads for mp setting (default = None)\n",
    "\n",
    "Please see the doc strings of the astroABC sampler for details on each of these settings."
   ]
  },
  {
   "cell_type": "code",
   "execution_count": 6,
   "metadata": {},
   "outputs": [],
   "source": [
    "prop={'dfunc':dist_metric, 'outfile':\"gaussian_example.txt\", 'verbose':1, 'adapt_t': True, 'pert_kernel':2}"
   ]
  },
  {
   "cell_type": "markdown",
   "metadata": {},
   "source": [
    "Now we are ready to create an instance of our sampler. \n",
    "To do this we just need to specify the following to the astroabc.ABC_class\n",
    "\n",
    "astroabc.ABC_class(number of parameters,number of particles,data,tolerance levels,number of iterations,priors,prop)\n",
    "\n",
    "To begin let's run in serial using 100 particles for 30 iterations with default tolerance levels of a maximum threshold of 0.7 and  a minimum threshold of 0.05:"
   ]
  },
  {
   "cell_type": "code",
   "execution_count": 7,
   "metadata": {},
   "outputs": [
    {
     "name": "stdout",
     "output_type": "stream",
     "text": [
      "\t \t\n",
      "\t ########################     astroABC     ########################\t\n",
      "\t \t\n",
      "\t Npart=100 \t numt=20 \t tol=[0.5000,0.0020] exp\n",
      "\t Priors= [('normal', [0.03, 0.1]), ('uniform', [0.1, 0.9])]\n"
     ]
    }
   ],
   "source": [
    "# nparam,npart,data,tlevels,niter,priors\n",
    "sampler = astroabc.ABC_class(2, 100, data, [0.5,0.002], 20, priors,**prop)"
   ]
  },
  {
   "cell_type": "markdown",
   "metadata": {},
   "source": [
    "Then we simply begin sampling on our data..."
   ]
  },
  {
   "cell_type": "code",
   "execution_count": 8,
   "metadata": {},
   "outputs": [
    {
     "name": "stdout",
     "output_type": "stream",
     "text": [
      "\t Step: 0 \t tol: 0.5 \t Params: [0.020522396763154486, 0.5263688944267011]\n",
      "\t Step: 1 \t tol: 0.3742181495572509 \t Params: [0.03709637825806263, 0.5703979560627366]\n",
      "\t Step: 2 \t tol: 0.2965377436432852 \t Params: [0.03701018266143877, 0.5659714547188062]\n",
      "\t Step: 3 \t tol: 0.2370191959974505 \t Params: [0.028563201676633985, 0.556070736422599]\n",
      "\t Step: 4 \t tol: 0.20933307897674305 \t Params: [0.03872276678510157, 0.5582240748029592]\n",
      "\t Step: 5 \t tol: 0.17228427085279782 \t Params: [0.05062724671056203, 0.5646824462206771]\n",
      "\t Step: 6 \t tol: 0.14911549143593772 \t Params: [0.032962942638231914, 0.553216934777209]\n",
      "\t Step: 7 \t tol: 0.12280751557771218 \t Params: [0.034037688464927746, 0.5545406888236522]\n",
      "\t Step: 8 \t tol: 0.10655523222636654 \t Params: [0.0476472016831335, 0.5616191752831307]\n",
      "\t Step: 9 \t tol: 0.08590238305730193 \t Params: [0.04937789930246498, 0.5621936022612837]\n",
      "\t Step: 10 \t tol: 0.06519143005414267 \t Params: [0.0429046405942997, 0.5616656407061443]\n",
      "\t Step: 11 \t tol: 0.05231471744230793 \t Params: [0.03962307191839867, 0.564766297429466]\n",
      "\t Step: 12 \t tol: 0.04288787612659976 \t Params: [0.036493746034476804, 0.5638728764340933]\n",
      "\t Step: 13 \t tol: 0.03433202922503295 \t Params: [0.03718130343812858, 0.5633386032312949]\n",
      "\t Step: 14 \t tol: 0.028231597270947185 \t Params: [0.03797799541666444, 0.5636431714490537]\n",
      "\t Step: 15 \t tol: 0.02261777293185243 \t Params: [0.037564613307729006, 0.5614712467121862]\n",
      "\t Step: 16 \t tol: 0.017506224377007204 \t Params: [0.0386057547178579, 0.5623213827667147]\n",
      "\t Step: 17 \t tol: 0.014756025280729824 \t Params: [0.03906408606169587, 0.5623039531061854]\n",
      "\t Step: 18 \t tol: 0.01205893636849356 \t Params: [0.03926019135332243, 0.5617911866549261]\n",
      "\t Step: 19 \t tol: 0.00985663491562854 \t Params: [0.03899238260515151, 0.5619175901692387]\n"
     ]
    }
   ],
   "source": [
    "sampler.sample(model_sim)"
   ]
  },
  {
   "cell_type": "code",
   "execution_count": 24,
   "metadata": {},
   "outputs": [
    {
     "data": {
      "text/plain": [
       "array([[0.0205224 , 0.52636889],\n",
       "       [0.03709638, 0.57039796],\n",
       "       [0.03701018, 0.56597145],\n",
       "       [0.0285632 , 0.55607074],\n",
       "       [0.03872277, 0.55822407],\n",
       "       [0.05062725, 0.56468245],\n",
       "       [0.03296294, 0.55321693],\n",
       "       [0.03403769, 0.55454069],\n",
       "       [0.0476472 , 0.56161918],\n",
       "       [0.0493779 , 0.5621936 ],\n",
       "       [0.04290464, 0.56166564],\n",
       "       [0.03962307, 0.5647663 ],\n",
       "       [0.03649375, 0.56387288],\n",
       "       [0.0371813 , 0.5633386 ],\n",
       "       [0.037978  , 0.56364317],\n",
       "       [0.03756461, 0.56147125],\n",
       "       [0.03860575, 0.56232138],\n",
       "       [0.03906409, 0.56230395],\n",
       "       [0.03926019, 0.56179119],\n",
       "       [0.03899238, 0.56191759]])"
      ]
     },
     "execution_count": 24,
     "metadata": {},
     "output_type": "execute_result"
    }
   ],
   "source": [
    "samples = np.array(sampler.samples)\n",
    "samples"
   ]
  },
  {
   "cell_type": "code",
   "execution_count": 27,
   "metadata": {},
   "outputs": [
    {
     "data": {
      "text/plain": [
       "array([0.0205224 , 0.03709638, 0.03701018, 0.0285632 , 0.03872277,\n",
       "       0.05062725, 0.03296294, 0.03403769, 0.0476472 , 0.0493779 ,\n",
       "       0.04290464, 0.03962307, 0.03649375, 0.0371813 , 0.037978  ,\n",
       "       0.03756461, 0.03860575, 0.03906409, 0.03926019, 0.03899238])"
      ]
     },
     "execution_count": 27,
     "metadata": {},
     "output_type": "execute_result"
    }
   ],
   "source": [
    "samples[:,0]"
   ]
  },
  {
   "cell_type": "code",
   "execution_count": 42,
   "metadata": {},
   "outputs": [
    {
     "name": "stderr",
     "output_type": "stream",
     "text": [
      "WARNING:root:Too few points to create valid contours\n"
     ]
    },
    {
     "data": {
      "image/png": "[encoded data removed]",
      "text/plain": [
       "<Figure size 396x396 with 4 Axes>"
      ]
     },
     "metadata": {
      "needs_background": "light"
     },
     "output_type": "display_data"
    }
   ],
   "source": [
    "corner.corner(samples)\n",
    "plt.show()"
   ]
  },
  {
   "cell_type": "code",
   "execution_count": 37,
   "metadata": {},
   "outputs": [
    {
     "name": "stderr",
     "output_type": "stream",
     "text": [
      "/home/isidro/anaconda3/lib/python3.8/site-packages/seaborn/_decorators.py:36: FutureWarning: Pass the following variables as keyword args: x, y. From version 0.12, the only valid positional argument will be `data`, and passing other arguments without an explicit keyword will result in an error or misinterpretation.\n",
      "  warnings.warn(\n"
     ]
    },
    {
     "data": {
      "text/plain": [
       "<seaborn.axisgrid.JointGrid at 0x7f8d58b68730>"
      ]
     },
     "execution_count": 37,
     "metadata": {},
     "output_type": "execute_result"
    },
    {
     "data": {
      "image/png": "[encoded data removed]",
      "text/plain": [
       "<Figure size 432x432 with 3 Axes>"
      ]
     },
     "metadata": {
      "needs_background": "light"
     },
     "output_type": "display_data"
    }
   ],
   "source": [
    "sns.jointplot(samples[:,0], samples[:,1])"
   ]
  },
  {
   "cell_type": "markdown",
   "metadata": {
    "collapsed": true
   },
   "source": [
    "The output above shows the estimated means of the 2D Gaussian averaged over all 100 particles at each iteration, together with the tolerance level. Note above that the sampling may end before 20 iterations if the minimum tolerance level is reached first.\n",
    "Recall that the true parameter values are $\\mu_{1,true} = 0.037579, \\, \\mu_{2, true}=0.573537$"
   ]
  },
  {
   "cell_type": "markdown",
   "metadata": {},
   "source": [
    "# K-Nearest Neighbours estimation for data sample with covariance matrix\n",
    "\n",
    "We could also have created a dataset with a full covariance matrix using "
   ]
  },
  {
   "cell_type": "code",
   "execution_count": null,
   "metadata": {},
   "outputs": [],
   "source": [
    "means= np.array([0.7579, 0.273537])\n",
    "cov = np.array([0.1,0.01,0.01,0.1])\n",
    "data_cov = astroabc.Model(\"normal\",1000).make_mock(means,cov)"
   ]
  },
  {
   "cell_type": "markdown",
   "metadata": {},
   "source": [
    "Keeping model simulation and distance methods the same as above. We can select a different way of estimating the covariance amongst all the particles using k-nearest neighbours. This returns a local covariance estimate and in many cases this reaches convergence faster then using a weighted covariance amongst all particles."
   ]
  },
  {
   "cell_type": "code",
   "execution_count": null,
   "metadata": {},
   "outputs": [],
   "source": [
    "priors =  [('uniform', [0.1,0.9]), ('uniform', [0.1, 0.9])]\n",
    "prop={'dfunc':dist_metric, 'outfile':\"gaussian_example.txt\", 'verbose':1, \\\n",
    "      'adapt_t': True, 'variance_method':4, 'k_near':10 }"
   ]
  },
  {
   "cell_type": "code",
   "execution_count": null,
   "metadata": {},
   "outputs": [],
   "source": [
    "sampler = astroabc.ABC_class(2,100,data_cov,[0.5,0.002],25,priors,**prop)"
   ]
  },
  {
   "cell_type": "code",
   "execution_count": null,
   "metadata": {},
   "outputs": [],
   "source": [
    "sampler.sample(model_sim)"
   ]
  },
  {
   "cell_type": "code",
   "execution_count": null,
   "metadata": {},
   "outputs": [],
   "source": []
  }
 ],
 "metadata": {
  "kernelspec": {
   "display_name": "Python 3",
   "language": "python",
   "name": "python3"
  },
  "language_info": {
   "codemirror_mode": {
    "name": "ipython",
    "version": 3
   },
   "file_extension": ".py",
   "mimetype": "text/x-python",
   "name": "python",
   "nbconvert_exporter": "python",
   "pygments_lexer": "ipython3",
   "version": "3.8.8"
  }
 },
 "nbformat": 4,
 "nbformat_minor": 1
}
